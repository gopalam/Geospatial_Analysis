{
  "nbformat": 4,
  "nbformat_minor": 0,
  "metadata": {
    "colab": {
      "name": "CBG_Export.ipynb",
      "provenance": [],
      "collapsed_sections": [],
      "include_colab_link": true
    },
    "kernelspec": {
      "name": "python3",
      "display_name": "Python 3"
    },
    "language_info": {
      "name": "python"
    }
  },
  "cells": [
    {
      "cell_type": "markdown",
      "metadata": {
        "id": "view-in-github",
        "colab_type": "text"
      },
      "source": [
        "<a href=\"https://colab.research.google.com/github/gopalam/Geospatial_Analysis/blob/main/Geospatial_Analysis/CBG_Export.ipynb\" target=\"_parent\"><img src=\"https://colab.research.google.com/assets/colab-badge.svg\" alt=\"Open In Colab\"/></a>"
      ]
    },
    {
      "cell_type": "markdown",
      "metadata": {
        "id": "aJzUW2rrcqmo"
      },
      "source": [
        "This script uses  base census data and US national geometry(geojson) provided by Safegraph to pull together select variables and attach them to the national geometry. State level shapefiles are then exported out\n",
        "input: US geometry at the scale of census block group.\n",
        "      **input:** Raw block group level census variables and geojson geometry\n",
        "      ** output:** shapefiles exported by state\n"
      ]
    },
    {
      "cell_type": "markdown",
      "metadata": {
        "id": "IJ7YJBxuobJX"
      },
      "source": [
        "Code is interspersed with machine output as well as comments"
      ]
    },
    {
      "cell_type": "code",
      "metadata": {
        "id": "_f3WVW-39u8G"
      },
      "source": [
        "# install initial set of depdencies- for geospatial manipulation\n",
        "!pip install geopandas\n",
        "!pip install --upgrade pyshp\n",
        "!pip install --upgrade shapely\n",
        "!pip install --upgrade descartes\n",
        "\n",
        "# Install Gdal - rtree pre-req\n",
        "!apt install gdal-bin python-gdal python3-gdal \n",
        "# Install rtree - Geopandas requirment\n",
        "!apt install python3-rtree \n",
        "# Install Geopandas\n",
        "!pip install git+git://github.com/geopandas/geopandas.git\n",
        "\n"
      ],
      "execution_count": null,
      "outputs": []
    },
    {
      "cell_type": "code",
      "metadata": {
        "id": "2MoiAxNWIG3y"
      },
      "source": [
        "#install more dependencies for data wrangling\n",
        "import pandas as pd\n",
        "import psutil\n",
        "from tqdm import tqdm\n",
        "import warnings\n",
        "import geopandas as gpd\n",
        "from pathlib import Path\n"
      ],
      "execution_count": null,
      "outputs": []
    },
    {
      "cell_type": "code",
      "metadata": {
        "id": "VgZhGOpDAiBu"
      },
      "source": [
        "# special libraries to allow file access\n",
        "from google.colab import drive as mountGoogleDrive \n",
        "from pydrive.auth import GoogleAuth\n",
        "from pydrive.drive import GoogleDrive\n",
        "from google.colab import auth\n",
        "from oauth2client.client import GoogleCredentials"
      ],
      "execution_count": null,
      "outputs": []
    },
    {
      "cell_type": "code",
      "metadata": {
        "id": "c1MxonTUIHmZ"
      },
      "source": [
        "# create file access for special libraries, this is a piece of code borrowed from Safegraph's repo.\n",
        "from google.colab import drive as mountGoogleDrive \n",
        "\n",
        "your_name = \"XX\" # << If you want to customize the code, then you should edit this\n",
        "################################\n",
        "print(f\"Hello {your_name}, to mount your google drive you will need to click on the link and copy/paste the code.\")\n",
        "################################\n",
        "# These commands allow the notebook to read your data from your GoogleDrive\n",
        "mountGoogleDrive.mount('/content/mountedDrive')\n",
        "print(f\"Congrats {your_name}, you mounted your google drive!\")"
      ],
      "execution_count": null,
      "outputs": []
    },
    {
      "cell_type": "code",
      "metadata": {
        "id": "NAWF8YoBRlnG"
      },
      "source": [
        "# file paths\n",
        "#output_file location\n",
        "filename = r\"/content/mountedDrive/My Drive/census/data/shapefiles\" \n",
        "#state fips code\n",
        "Fips_path=r\"/content/mountedDrive/My Drive/data/StateFips.csv\"\n",
        "# census vars\n",
        "fpdata=r\"/content/mountedDrive/My Drive/census/data/CBG_vars\"\n",
        "cbg_path=r\"/content/mountedDrive/My Drive/data/cbg_geographic_data.csv\"\n",
        "geom_path=\"/content/mountedDrive/My Drive/data/cbg.geojson\"\n",
        "print(filename)"
      ],
      "execution_count": null,
      "outputs": []
    },
    {
      "cell_type": "code",
      "metadata": {
        "id": "MrU4Fsb4wePS",
        "colab": {
          "base_uri": "https://localhost:8080/"
        },
        "outputId": "6f9cc116-9dd7-49f0-a49d-a8f53435b07c"
      },
      "source": [
        "#define the states where data is to be output\n",
        "#two letter state codes are needed\n",
        "# defined here is the DC-area states\n",
        "st=['DC','VA','MD','DE', 'NJ','PA','NY','MA','RI','CT', 'ME', 'VT', 'NH',\n",
        "    'WV','NC','KY','TN','SC','GA','FL','AL','MS','AR','LA','TX','OK',\n",
        "    'WA','MT','ID','WY','OR','CA','NV','NM','UT','CO','AZ','WI','MI','OH','IL',\n",
        "    'IN','MN','IA','MO','KS','NE','SD','ND','AK','HI',]\n",
        "len(st)\n"
      ],
      "execution_count": null,
      "outputs": [
        {
          "output_type": "execute_result",
          "data": {
            "text/plain": [
              "51"
            ]
          },
          "metadata": {},
          "execution_count": 6
        }
      ]
    },
    {
      "cell_type": "code",
      "metadata": {
        "id": "xgCIuR3JdM8y"
      },
      "source": [
        "# read geometry. A long process. read of ~3 GB file. Can take upto 10 minutes\n",
        "cbg_geos=gpd.read_file(geom_path)\n",
        "cbg_geos.head()\n",
        "\n"
      ],
      "execution_count": null,
      "outputs": []
    },
    {
      "cell_type": "code",
      "metadata": {
        "id": "BbAz2y3tWFFW"
      },
      "source": [
        "# check the unique states. There is atleast one orphan blockgroup polygon, ignore it.\n",
        "cbg_geos['State'].unique()"
      ],
      "execution_count": null,
      "outputs": []
    },
    {
      "cell_type": "code",
      "metadata": {
        "id": "7LBuZSFC1wHb"
      },
      "source": [
        "# read of basic geometry information of each block group\n",
        "geo_data = pd.read_csv(cbg_path)\n",
        "geo_data.head()"
      ],
      "execution_count": null,
      "outputs": []
    },
    {
      "cell_type": "code",
      "metadata": {
        "id": "7RKTAH8g19Z1"
      },
      "source": [
        "# get cbg geometry statefips in numbers\n",
        "Fips = pd.read_csv(Fips_path,dtype={'FIPS':str})\n",
        "geom_fips=(cbg_geos.StateFIPS);\n",
        "geom_fips=geom_fips.astype(int);    \n",
        "FIPS_short=Fips[Fips['Code'].isin(st)]\n",
        "\n",
        "FIPS_short.reset_index(inplace=True)\n",
        "FIPS_short.head(100)"
      ],
      "execution_count": null,
      "outputs": []
    },
    {
      "cell_type": "code",
      "metadata": {
        "id": "uwmATU1AOyuS"
      },
      "source": [
        "# path to your census variables. some variables are not used\n",
        "b01=r\"/content/mountedDrive/My Drive/census/data/CBG_vars/cbg_b01.csv\"\n",
        "b03=r\"/content/mountedDrive/My Drive/census/data/CBG_vars/cbg_b03.csv\"\n",
        "b11=r\"/content/mountedDrive/My Drive/census/data/CBG_vars/cbg_b11.csv\"\n",
        "b15=r\"/content/mountedDrive/My Drive/census/data/CBG_vars/cbg_b15.csv\"\n",
        "b16=r\"/content/mountedDrive/My Drive/census/data/CBG_vars/cbg_b16.csv\"\n",
        "b19=r\"/content/mountedDrive/My Drive/census/data/CBG_vars/cbg_b19.csv\"\n",
        "b25=r\"/content/mountedDrive/My Drive/census/data/CBG_vars/cbg_b25.csv\"\n"
      ],
      "execution_count": null,
      "outputs": []
    },
    {
      "cell_type": "code",
      "metadata": {
        "id": "cYFxvoKqP5oL"
      },
      "source": [
        "\n",
        "df=pd.read_csv(b01,dtype={'census_block_group':str})\n",
        "\n",
        "LM_pop1=df['B01001e1']\n",
        "Age22t29=(df['B01001e10']+df['B01001e11']+df['B01001e34']+df['B01001e35'])/df['B01001e1']\n",
        "Age30t49=(df['B01001e12'] +df['B01001e13'] +df['B01001e14']+df['B01001e15']+df['B01001e36']+\n",
        "          df['B01001e37']+df['B01001e38']+df['B01001e39'])/df['B01001e1']\n",
        "Age50t66=(df['B01001e16']+df['B01001e17']+df['B01001e18']+df['B01001e19']\n",
        "          +df['B01001e20']+df['B01001e40']+df['B01001e41']+df['B01001e42']+df['B01001e43']\n",
        "          +df['B01001e44'])/df['B01001e1']\n",
        "Age67up=(df['B01001e45']+df['B01001e46']+df['B01001e47']+df['B01001e48']+df['B01001e49'])/df['B01001e1']\n"
      ],
      "execution_count": null,
      "outputs": []
    },
    {
      "cell_type": "code",
      "metadata": {
        "id": "CM5VcKC4QZGD"
      },
      "source": [
        "df.head(10)"
      ],
      "execution_count": null,
      "outputs": []
    },
    {
      "cell_type": "code",
      "metadata": {
        "id": "9gaj0_L9Qj_Z"
      },
      "source": [
        "#%% here are some variables created out of raw data\n",
        "df=pd.read_csv(b19,dtype={'census_block_group':str})\n",
        "HI_75kup=(df['B19001e13']+ df['B19001e14']+ df['B19001e15']+ df['B19001e16']+ df['B19001e17'])/(df['B19001e1'])\n",
        "HI_75kup.head(10)"
      ],
      "execution_count": null,
      "outputs": []
    },
    {
      "cell_type": "code",
      "metadata": {
        "id": "IIJ9cl8IQ7Nh"
      },
      "source": [
        "#%% home price data\n",
        "df=pd.read_csv(b25,dtype={'census_block_group':str})\n",
        "HV_300up=(df['B25075e21']+ df['B25075e22']+ df['B25075e23']+ df['B25075e24']+ df['B25075e25']+ df['B25075e26']+ df['B25075e27'])/ df['B25075e1'] \n",
        "H_total=df['B25001e1']\n",
        "h_frac=(df['B25024e4']+df['B25024e5']+df['B25024e6']+df['B25024e7']+df['B25024e8']+df['B25024e9'])/df['B25024e1']"
      ],
      "execution_count": null,
      "outputs": []
    },
    {
      "cell_type": "code",
      "metadata": {
        "id": "MN6O6OvdJUtQ"
      },
      "source": [
        "data=pd.DataFrame()\n",
        "data=pd.DataFrame(df['census_block_group'])\n",
        "data['HI_75kup']=HI_75kup\n",
        "data['HV_300up']=HV_300up\n",
        "data['H_total']=H_total\n",
        "data['h_frac']=h_frac\n",
        "data['LM_pop1']=LM_pop1\n",
        "data['Age22t29']=Age22t29\n",
        "data['Age30t49']=Age30t49\n",
        "data['Age50t66']=Age50t66\n",
        "data['Age67up']=Age67up\n",
        "\n",
        "data.fillna(0,inplace=True)\n",
        "data.head(10)\n"
      ],
      "execution_count": null,
      "outputs": []
    },
    {
      "cell_type": "code",
      "metadata": {
        "id": "MvOrcHEpsAMk"
      },
      "source": [
        "data.columns"
      ],
      "execution_count": null,
      "outputs": []
    },
    {
      "cell_type": "code",
      "metadata": {
        "id": "VZgaCCAcT4TN"
      },
      "source": [
        "data.columns=['CensusBlockGroup', 'HI_75kup', 'HV_300up', 'H_total', 'h_frac',\n",
        "       'LM_pop1', 'Age22t29', 'Age30t49', 'Age50t66', 'Age67up',]\n",
        "\n",
        "data['CensusBlockGroup']=data['CensusBlockGroup'].astype(str)\n"
      ],
      "execution_count": null,
      "outputs": []
    },
    {
      "cell_type": "code",
      "metadata": {
        "colab": {
          "base_uri": "https://localhost:8080/"
        },
        "id": "ONy-QEkKS-46",
        "outputId": "e76b514f-5a20-4643-a855-aa9b13e7602e"
      },
      "source": [
        "cbg_geos['State'].unique()"
      ],
      "execution_count": null,
      "outputs": [
        {
          "output_type": "execute_result",
          "data": {
            "text/plain": [
              "array(['AL', 'AK', None, 'AZ', 'AR', 'CA', 'CO', 'CT', 'DE', 'DC', 'FL',\n",
              "       'GA', 'HI', 'ID', 'IL', 'IN', 'IA', 'KS', 'KY', 'LA', 'ME', 'MD',\n",
              "       'MA', 'MI', 'MN', 'MS', 'MO', 'MT', 'NE', 'NV', 'NH', 'NJ', 'NM',\n",
              "       'NY', 'NC', 'ND', 'OH', 'OK', 'OR', 'PA', 'RI', 'SC', 'SD', 'TN',\n",
              "       'TX', 'UT', 'VT', 'VA', 'WA', 'WV', 'WI', 'WY', 'PR'], dtype=object)"
            ]
          },
          "metadata": {},
          "execution_count": 25
        }
      ]
    },
    {
      "cell_type": "code",
      "metadata": {
        "id": "zS63vzf2S4tf"
      },
      "source": [
        "# merge to a different geoDF, just for safety , can fix this later.\n",
        "cbg_geos2=cbg_geos.merge(data,on=\"CensusBlockGroup\")\n"
      ],
      "execution_count": null,
      "outputs": []
    },
    {
      "cell_type": "code",
      "metadata": {
        "colab": {
          "base_uri": "https://localhost:8080/"
        },
        "id": "KpzqEHpsfGJj",
        "outputId": "2c98ab38-31b8-477c-f114-9da26800e74f"
      },
      "source": [
        "p=cbg_geos2.copy()\n",
        "del p['geometry']\n",
        "p['State'].unique()"
      ],
      "execution_count": null,
      "outputs": [
        {
          "output_type": "execute_result",
          "data": {
            "text/plain": [
              "array(['AL', 'AK', None, 'AZ', 'AR', 'CA', 'CO', 'CT', 'DE', 'DC', 'FL',\n",
              "       'GA', 'HI', 'ID', 'IL', 'IN', 'IA', 'KS', 'KY', 'LA', 'ME', 'MD',\n",
              "       'MA', 'MI', 'MN', 'MS', 'MO', 'MT', 'NE', 'NV', 'NH', 'NJ', 'NM',\n",
              "       'NY', 'NC', 'ND', 'OH', 'OK', 'OR', 'PA', 'RI', 'SC', 'SD', 'TN',\n",
              "       'TX', 'UT', 'VT', 'VA', 'WA', 'WV', 'WI', 'WY', 'PR'], dtype=object)"
            ]
          },
          "metadata": {},
          "execution_count": 27
        }
      ]
    },
    {
      "cell_type": "code",
      "metadata": {
        "id": "a1x5My7imRB_"
      },
      "source": [
        "cbg_geos=cbg_geos2.copy()"
      ],
      "execution_count": null,
      "outputs": []
    },
    {
      "cell_type": "code",
      "metadata": {
        "colab": {
          "base_uri": "https://localhost:8080/",
          "height": 881
        },
        "id": "y7uopzMWnEH3",
        "outputId": "89ff9f82-b38d-46ba-fc78-1e80faa09a2c"
      },
      "source": [
        "cbg_geos.head(10)"
      ],
      "execution_count": null,
      "outputs": [
        {
          "output_type": "execute_result",
          "data": {
            "text/html": [
              "<div>\n",
              "<style scoped>\n",
              "    .dataframe tbody tr th:only-of-type {\n",
              "        vertical-align: middle;\n",
              "    }\n",
              "\n",
              "    .dataframe tbody tr th {\n",
              "        vertical-align: top;\n",
              "    }\n",
              "\n",
              "    .dataframe thead th {\n",
              "        text-align: right;\n",
              "    }\n",
              "</style>\n",
              "<table border=\"1\" class=\"dataframe\">\n",
              "  <thead>\n",
              "    <tr style=\"text-align: right;\">\n",
              "      <th></th>\n",
              "      <th>StateFIPS</th>\n",
              "      <th>CountyFIPS</th>\n",
              "      <th>TractCode</th>\n",
              "      <th>BlockGroup</th>\n",
              "      <th>CensusBlockGroup</th>\n",
              "      <th>State</th>\n",
              "      <th>County</th>\n",
              "      <th>ClassCode</th>\n",
              "      <th>geometry</th>\n",
              "      <th>HI_75kup</th>\n",
              "      <th>HV_300up</th>\n",
              "      <th>H_total</th>\n",
              "      <th>h_frac</th>\n",
              "      <th>LM_pop1</th>\n",
              "      <th>Age22t29</th>\n",
              "      <th>Age30t49</th>\n",
              "      <th>Age50t66</th>\n",
              "      <th>Age67up</th>\n",
              "      <th>spn_18t64</th>\n",
              "      <th>hisp_wht</th>\n",
              "      <th>hisp_lat</th>\n",
              "      <th>hisp_hous</th>\n",
              "    </tr>\n",
              "  </thead>\n",
              "  <tbody>\n",
              "    <tr>\n",
              "      <th>0</th>\n",
              "      <td>01</td>\n",
              "      <td>081</td>\n",
              "      <td>041600</td>\n",
              "      <td>1</td>\n",
              "      <td>010810416001</td>\n",
              "      <td>AL</td>\n",
              "      <td>Lee County</td>\n",
              "      <td>H1</td>\n",
              "      <td>MULTIPOLYGON (((-85.37282 32.63424, -85.37275 ...</td>\n",
              "      <td>0.280216</td>\n",
              "      <td>0.000000</td>\n",
              "      <td>1479</td>\n",
              "      <td>0.536173</td>\n",
              "      <td>3182</td>\n",
              "      <td>0.185104</td>\n",
              "      <td>0.300126</td>\n",
              "      <td>0.177876</td>\n",
              "      <td>0.049654</td>\n",
              "      <td>0.007703</td>\n",
              "      <td>0.008485</td>\n",
              "      <td>0.034884</td>\n",
              "      <td>0.020785</td>\n",
              "    </tr>\n",
              "    <tr>\n",
              "      <th>1</th>\n",
              "      <td>01</td>\n",
              "      <td>081</td>\n",
              "      <td>041600</td>\n",
              "      <td>2</td>\n",
              "      <td>010810416002</td>\n",
              "      <td>AL</td>\n",
              "      <td>Lee County</td>\n",
              "      <td>H1</td>\n",
              "      <td>MULTIPOLYGON (((-85.38346 32.64838, -85.38301 ...</td>\n",
              "      <td>0.215017</td>\n",
              "      <td>0.433962</td>\n",
              "      <td>381</td>\n",
              "      <td>0.254593</td>\n",
              "      <td>803</td>\n",
              "      <td>0.171856</td>\n",
              "      <td>0.200498</td>\n",
              "      <td>0.164384</td>\n",
              "      <td>0.077210</td>\n",
              "      <td>0.016032</td>\n",
              "      <td>0.019925</td>\n",
              "      <td>0.054795</td>\n",
              "      <td>0.068259</td>\n",
              "    </tr>\n",
              "    <tr>\n",
              "      <th>2</th>\n",
              "      <td>01</td>\n",
              "      <td>081</td>\n",
              "      <td>041700</td>\n",
              "      <td>4</td>\n",
              "      <td>010810417004</td>\n",
              "      <td>AL</td>\n",
              "      <td>Lee County</td>\n",
              "      <td>H1</td>\n",
              "      <td>MULTIPOLYGON (((-85.37139 32.60139, -85.37138 ...</td>\n",
              "      <td>0.343195</td>\n",
              "      <td>0.225352</td>\n",
              "      <td>1076</td>\n",
              "      <td>0.023234</td>\n",
              "      <td>2745</td>\n",
              "      <td>0.044809</td>\n",
              "      <td>0.331512</td>\n",
              "      <td>0.274681</td>\n",
              "      <td>0.042623</td>\n",
              "      <td>0.041243</td>\n",
              "      <td>0.089253</td>\n",
              "      <td>0.136612</td>\n",
              "      <td>0.102564</td>\n",
              "    </tr>\n",
              "    <tr>\n",
              "      <th>3</th>\n",
              "      <td>01</td>\n",
              "      <td>073</td>\n",
              "      <td>011107</td>\n",
              "      <td>4</td>\n",
              "      <td>010730111074</td>\n",
              "      <td>AL</td>\n",
              "      <td>Jefferson County</td>\n",
              "      <td>H1</td>\n",
              "      <td>MULTIPOLYGON (((-86.64797 33.59205, -86.64771 ...</td>\n",
              "      <td>0.473154</td>\n",
              "      <td>0.064824</td>\n",
              "      <td>1376</td>\n",
              "      <td>0.038517</td>\n",
              "      <td>3377</td>\n",
              "      <td>0.042938</td>\n",
              "      <td>0.350015</td>\n",
              "      <td>0.137104</td>\n",
              "      <td>0.060409</td>\n",
              "      <td>0.005764</td>\n",
              "      <td>0.024578</td>\n",
              "      <td>0.027539</td>\n",
              "      <td>0.022651</td>\n",
              "    </tr>\n",
              "    <tr>\n",
              "      <th>4</th>\n",
              "      <td>01</td>\n",
              "      <td>073</td>\n",
              "      <td>011108</td>\n",
              "      <td>4</td>\n",
              "      <td>010730111084</td>\n",
              "      <td>AL</td>\n",
              "      <td>Jefferson County</td>\n",
              "      <td>H1</td>\n",
              "      <td>MULTIPOLYGON (((-86.65206 33.59869, -86.65204 ...</td>\n",
              "      <td>0.405117</td>\n",
              "      <td>0.151515</td>\n",
              "      <td>543</td>\n",
              "      <td>0.878453</td>\n",
              "      <td>823</td>\n",
              "      <td>0.249089</td>\n",
              "      <td>0.385176</td>\n",
              "      <td>0.069259</td>\n",
              "      <td>0.115431</td>\n",
              "      <td>0.110930</td>\n",
              "      <td>0.000000</td>\n",
              "      <td>0.126367</td>\n",
              "      <td>0.070362</td>\n",
              "    </tr>\n",
              "    <tr>\n",
              "      <th>5</th>\n",
              "      <td>01</td>\n",
              "      <td>073</td>\n",
              "      <td>005101</td>\n",
              "      <td>3</td>\n",
              "      <td>010730051013</td>\n",
              "      <td>AL</td>\n",
              "      <td>Jefferson County</td>\n",
              "      <td>H1</td>\n",
              "      <td>MULTIPOLYGON (((-86.83525 33.49175, -86.83524 ...</td>\n",
              "      <td>0.071823</td>\n",
              "      <td>0.000000</td>\n",
              "      <td>414</td>\n",
              "      <td>0.388889</td>\n",
              "      <td>504</td>\n",
              "      <td>0.099206</td>\n",
              "      <td>0.359127</td>\n",
              "      <td>0.170635</td>\n",
              "      <td>0.075397</td>\n",
              "      <td>0.267647</td>\n",
              "      <td>0.180556</td>\n",
              "      <td>0.180556</td>\n",
              "      <td>0.149171</td>\n",
              "    </tr>\n",
              "    <tr>\n",
              "      <th>6</th>\n",
              "      <td>01</td>\n",
              "      <td>073</td>\n",
              "      <td>005101</td>\n",
              "      <td>1</td>\n",
              "      <td>010730051011</td>\n",
              "      <td>AL</td>\n",
              "      <td>Jefferson County</td>\n",
              "      <td>H1</td>\n",
              "      <td>MULTIPOLYGON (((-86.83960 33.49368, -86.83959 ...</td>\n",
              "      <td>0.041667</td>\n",
              "      <td>0.000000</td>\n",
              "      <td>311</td>\n",
              "      <td>0.929260</td>\n",
              "      <td>576</td>\n",
              "      <td>0.180556</td>\n",
              "      <td>0.046875</td>\n",
              "      <td>0.157986</td>\n",
              "      <td>0.041667</td>\n",
              "      <td>0.000000</td>\n",
              "      <td>0.000000</td>\n",
              "      <td>0.000000</td>\n",
              "      <td>0.000000</td>\n",
              "    </tr>\n",
              "    <tr>\n",
              "      <th>7</th>\n",
              "      <td>01</td>\n",
              "      <td>073</td>\n",
              "      <td>005103</td>\n",
              "      <td>1</td>\n",
              "      <td>010730051031</td>\n",
              "      <td>AL</td>\n",
              "      <td>Jefferson County</td>\n",
              "      <td>H1</td>\n",
              "      <td>MULTIPOLYGON (((-86.83223 33.49198, -86.83099 ...</td>\n",
              "      <td>0.107143</td>\n",
              "      <td>0.000000</td>\n",
              "      <td>572</td>\n",
              "      <td>0.054196</td>\n",
              "      <td>662</td>\n",
              "      <td>0.052870</td>\n",
              "      <td>0.140483</td>\n",
              "      <td>0.377644</td>\n",
              "      <td>0.255287</td>\n",
              "      <td>0.079268</td>\n",
              "      <td>0.039275</td>\n",
              "      <td>0.039275</td>\n",
              "      <td>0.021978</td>\n",
              "    </tr>\n",
              "    <tr>\n",
              "      <th>8</th>\n",
              "      <td>01</td>\n",
              "      <td>073</td>\n",
              "      <td>004902</td>\n",
              "      <td>2</td>\n",
              "      <td>010730049022</td>\n",
              "      <td>AL</td>\n",
              "      <td>Jefferson County</td>\n",
              "      <td>H1</td>\n",
              "      <td>MULTIPOLYGON (((-86.80738 33.49536, -86.80602 ...</td>\n",
              "      <td>0.201232</td>\n",
              "      <td>0.290323</td>\n",
              "      <td>574</td>\n",
              "      <td>0.843206</td>\n",
              "      <td>1074</td>\n",
              "      <td>0.316574</td>\n",
              "      <td>0.266294</td>\n",
              "      <td>0.142458</td>\n",
              "      <td>0.029795</td>\n",
              "      <td>0.041514</td>\n",
              "      <td>0.010242</td>\n",
              "      <td>0.116387</td>\n",
              "      <td>0.059548</td>\n",
              "    </tr>\n",
              "    <tr>\n",
              "      <th>9</th>\n",
              "      <td>01</td>\n",
              "      <td>073</td>\n",
              "      <td>011001</td>\n",
              "      <td>4</td>\n",
              "      <td>010730110014</td>\n",
              "      <td>AL</td>\n",
              "      <td>Jefferson County</td>\n",
              "      <td>H1</td>\n",
              "      <td>MULTIPOLYGON (((-86.56840 33.54323, -86.56821 ...</td>\n",
              "      <td>0.189189</td>\n",
              "      <td>0.061983</td>\n",
              "      <td>412</td>\n",
              "      <td>0.313107</td>\n",
              "      <td>789</td>\n",
              "      <td>0.088720</td>\n",
              "      <td>0.197719</td>\n",
              "      <td>0.326996</td>\n",
              "      <td>0.107731</td>\n",
              "      <td>0.000000</td>\n",
              "      <td>0.000000</td>\n",
              "      <td>0.000000</td>\n",
              "      <td>0.000000</td>\n",
              "    </tr>\n",
              "  </tbody>\n",
              "</table>\n",
              "</div>"
            ],
            "text/plain": [
              "  StateFIPS CountyFIPS TractCode  ...  hisp_wht  hisp_lat hisp_hous\n",
              "0        01        081    041600  ...  0.008485  0.034884  0.020785\n",
              "1        01        081    041600  ...  0.019925  0.054795  0.068259\n",
              "2        01        081    041700  ...  0.089253  0.136612  0.102564\n",
              "3        01        073    011107  ...  0.024578  0.027539  0.022651\n",
              "4        01        073    011108  ...  0.000000  0.126367  0.070362\n",
              "5        01        073    005101  ...  0.180556  0.180556  0.149171\n",
              "6        01        073    005101  ...  0.000000  0.000000  0.000000\n",
              "7        01        073    005103  ...  0.039275  0.039275  0.021978\n",
              "8        01        073    004902  ...  0.010242  0.116387  0.059548\n",
              "9        01        073    011001  ...  0.000000  0.000000  0.000000\n",
              "\n",
              "[10 rows x 22 columns]"
            ]
          },
          "metadata": {},
          "execution_count": 29
        }
      ]
    },
    {
      "cell_type": "code",
      "metadata": {
        "id": "XjyUjqFeWbrR"
      },
      "source": [
        "#output geometry spatially joined with model output\n",
        "for index, row in FIPS_short.iterrows():\n",
        "    # print(row['Name'], row['Code'],row['FIPS'])\n",
        "    ST=FIPS_short.Code[index]\n",
        "    fps=FIPS_short.FIPS[index]\n",
        "    print(ST)\n",
        "    ST_geos=cbg_geos[cbg_geos['State']==ST]\n",
        "    ST_shp = ST_geos\n",
        "    print(filename)                   \n",
        "    print(ST)\n",
        "    fpth= filename+ \"/\"+ ST\n",
        "    ST_shp.to_file(driver = 'ESRI Shapefile', filename= fpth)  "
      ],
      "execution_count": null,
      "outputs": []
    }
  ]
}